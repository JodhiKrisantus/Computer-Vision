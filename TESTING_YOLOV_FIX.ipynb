{
  "nbformat": 4,
  "nbformat_minor": 0,
  "metadata": {
    "colab": {
      "name": "JODHI KRISANTUS of FINAL_OBJEK DETECTION.ipynb",
      "provenance": [],
      "collapsed_sections": [],
      "mount_file_id": "1JxR_n0mJdBYT5XoUDf0bwZsqX_1dcvAu",
      "authorship_tag": "ABX9TyP8TeTn8xr9DkiFRFDWc6/a",
      "include_colab_link": true
    },
    "kernelspec": {
      "name": "python3",
      "display_name": "Python 3"
    },
    "language_info": {
      "name": "python"
    }
  },
  "cells": [
    {
      "cell_type": "markdown",
      "metadata": {
        "id": "view-in-github",
        "colab_type": "text"
      },
      "source": [
        "<a href=\"https://colab.research.google.com/github/JodhiKrisantus/Computer-Vision/blob/main/TESTING_YOLOV_FIX.ipynb\" target=\"_parent\"><img src=\"https://colab.research.google.com/assets/colab-badge.svg\" alt=\"Open In Colab\"/></a>"
      ]
    },
    {
      "cell_type": "markdown",
      "source": [
        "# CREATE BY JODHI KRISANTUS\n"
      ],
      "metadata": {
        "id": "bD25XIYjNcDT"
      }
    },
    {
      "cell_type": "code",
      "execution_count": 1,
      "metadata": {
        "id": "PDeVAq0GCs8A"
      },
      "outputs": [],
      "source": [
        "import cv2\n",
        "import numpy as np\n",
        "import glob\n",
        "import random"
      ]
    },
    {
      "cell_type": "code",
      "source": [
        "from google.colab.patches import cv2_imshow"
      ],
      "metadata": {
        "id": "z2Wkkb2TQaHA"
      },
      "execution_count": 2,
      "outputs": []
    },
    {
      "cell_type": "code",
      "source": [
        "!pip install --upgrade --no-cache-dir gdown"
      ],
      "metadata": {
        "id": "jnqy600dIX9Q"
      },
      "execution_count": null,
      "outputs": []
    },
    {
      "cell_type": "code",
      "source": [
        "!gdown --id 1-URk5Aneem7dZq5qFjHpAofUhXlAC3W4\n",
        "!gdown --id 1QrDcI2zgGy3kznGfcT5KQUgdVwiIxcKz\n",
        "!gdown --id 1vPKU74ZAQgMmEsZcBM4I9u9E8WT73zjk"
      ],
      "metadata": {
        "id": "2WNMydOTDNrG"
      },
      "execution_count": null,
      "outputs": []
    },
    {
      "cell_type": "code",
      "source": [
        "!unzip 'sample.zip' -d 'sample'"
      ],
      "metadata": {
        "id": "jyA2CfMLLScU"
      },
      "execution_count": null,
      "outputs": []
    },
    {
      "cell_type": "code",
      "source": [
        "# Load Yolo\n",
        "net = cv2.dnn.readNet(\"yolov3_custom_final.weights\", \"yolov3_custom.cfg\")\n",
        "\n",
        "# Name custom object\n",
        "classes = [\"face\",\"apd\"]\n",
        "\n",
        "# Images path\n",
        "images_path = glob.glob(r\"sample/*.jpg\")\n"
      ],
      "metadata": {
        "id": "5ARSGRn7C_EF"
      },
      "execution_count": 6,
      "outputs": []
    },
    {
      "cell_type": "code",
      "source": [
        "layer_names = net.getLayerNames()\n",
        "output_layers = [layer_names[i[0] - 1] for i in net.getUnconnectedOutLayers()]\n",
        "colors = np.random.uniform(0, 255, size=(len(classes), 3))\n",
        "\n",
        "# Insert here the path of your images\n",
        "random.shuffle(images_path)\n",
        "# loop through all the images\n",
        "for img_path in images_path:\n",
        "    # Loading image\n",
        "    img = cv2.imread(img_path)\n",
        "    img = cv2.resize(img, None, fx=0.4, fy=0.4)\n",
        "    height, width, channels = img.shape\n",
        "\n",
        "    # Detecting objects\n",
        "    blob = cv2.dnn.blobFromImage(img, 0.00392, (416, 416), (0, 0, 0), True, crop=False)\n",
        "\n",
        "    net.setInput(blob)\n",
        "    outs = net.forward(output_layers)\n",
        "\n",
        "    # Showing informations on the screen\n",
        "    class_ids = []\n",
        "    confidences = []\n",
        "    boxes = []\n",
        "    for out in outs:\n",
        "        for detection in out:\n",
        "            scores = detection[5:]\n",
        "            class_id = np.argmax(scores)\n",
        "            confidence = scores[class_id]\n",
        "            if confidence > 0.3:\n",
        "                # Object detected\n",
        "                print(class_id)\n",
        "                center_x = int(detection[0] * width)\n",
        "                center_y = int(detection[1] * height)\n",
        "                w = int(detection[2] * width)\n",
        "                h = int(detection[3] * height)\n",
        "\n",
        "                # Rectangle coordinates\n",
        "                x = int(center_x - w / 2)\n",
        "                y = int(center_y - h / 2)\n",
        "\n",
        "                boxes.append([x, y, w, h])\n",
        "                confidences.append(float(confidence))\n",
        "                class_ids.append(class_id)\n",
        "\n",
        "    indexes = cv2.dnn.NMSBoxes(boxes, confidences, 0.5, 0.4)\n",
        "    print(indexes)\n",
        "    font = cv2.FONT_HERSHEY_PLAIN\n",
        "    for i in range(len(boxes)):\n",
        "        if i in indexes:\n",
        "            x, y, w, h = boxes[i]\n",
        "            label = str(classes[class_ids[i]])\n",
        "            color = colors[class_ids[i]]\n",
        "            cv2.rectangle(img, (x, y), (x + w, y + h), color, 2)\n",
        "            cv2.putText(img, label, (x, y + 30), font, 3, color, 2)\n",
        "\n",
        "\n",
        "    # cv2.imshow(\"Image\", img)\n",
        "    cv2_imshow(img)\n",
        "    key = cv2.waitKey(0) \n",
        "cv2.destroyAllWindows()"
      ],
      "metadata": {
        "id": "56PFce-jC_SY"
      },
      "execution_count": null,
      "outputs": []
    },
    {
      "cell_type": "code",
      "source": [
        ""
      ],
      "metadata": {
        "id": "TnH1jjoMOqp_"
      },
      "execution_count": 7,
      "outputs": []
    }
  ]
}