{
 "cells": [
  {
   "cell_type": "code",
   "execution_count": 1,
   "id": "2033535c",
   "metadata": {},
   "outputs": [
    {
     "name": "stdout",
     "output_type": "stream",
     "text": [
      "Requirement already satisfied: opencv-python in c:\\users\\asus\\anaconda3\\lib\\site-packages (4.5.5.64)\n",
      "Requirement already satisfied: numpy>=1.17.3 in c:\\users\\asus\\anaconda3\\lib\\site-packages (from opencv-python) (1.20.3)\n",
      "Note: you may need to restart the kernel to use updated packages.\n"
     ]
    }
   ],
   "source": [
    "pip install opencv-python"
   ]
  },
  {
   "cell_type": "code",
   "execution_count": 1,
   "id": "6d749512",
   "metadata": {},
   "outputs": [],
   "source": [
    "import cv2\n",
    "import numpy as np\n",
    "import glob\n",
    "import random\n",
    "import time"
   ]
  },
  {
   "cell_type": "code",
   "execution_count": 2,
   "id": "c0b8b055",
   "metadata": {
    "scrolled": true
   },
   "outputs": [],
   "source": [
    "net = cv2.dnn.readNetFromDarknet(r\"C:\\Users\\ASUS\\ORBIT\\yolov3_custom.cfg\",r\"C:\\Users\\ASUS\\ORBIT\\presiden.weights\")"
   ]
  },
  {
   "cell_type": "code",
   "execution_count": 3,
   "id": "f2b04f7b",
   "metadata": {},
   "outputs": [],
   "source": [
    "classes = ['Jokowi','Sby']"
   ]
  },
  {
   "cell_type": "code",
   "execution_count": null,
   "id": "fe5288fc",
   "metadata": {},
   "outputs": [],
   "source": [
    "cap = cv2.VideoCapture(0)\n",
    "\n",
    "while 1:\n",
    "    _, img = cap.read()\n",
    "    img = cv2.resize(img,(1280,720))\n",
    "    hight,width,_ = img.shape\n",
    "    blob = cv2.dnn.blobFromImage(img, 1/255,(416,416),(0,0,0),swapRB = True,crop= False)\n",
    "\n",
    "    net.setInput(blob)\n",
    "\n",
    "    output_layers_name = net.getUnconnectedOutLayersNames()\n",
    "\n",
    "    layerOutputs = net.forward(output_layers_name)\n",
    "\n",
    "    boxes =[]\n",
    "    confidences = []\n",
    "    class_ids = []\n",
    "\n",
    "    for output in layerOutputs:\n",
    "        for detection in output:\n",
    "            score = detection[5:]\n",
    "            class_id = np.argmax(score)\n",
    "            confidence = score[class_id]\n",
    "            if confidence > 0.7:\n",
    "                center_x = int(detection[0] * width)\n",
    "                center_y = int(detection[1] * hight)\n",
    "                w = int(detection[2] * width)\n",
    "                h = int(detection[3]* hight)\n",
    "                x = int(center_x - w/2)\n",
    "                y = int(center_y - h/2)\n",
    "                boxes.append([x,y,w,h])\n",
    "                confidences.append((float(confidence)))\n",
    "                class_ids.append(class_id)\n",
    "\n",
    "\n",
    "    indexes = cv2.dnn.NMSBoxes(boxes,confidences,.5,.4)\n",
    "\n",
    "    boxes =[]\n",
    "    confidences = []\n",
    "    class_ids = []\n",
    "\n",
    "    for output in layerOutputs:\n",
    "        for detection in output:\n",
    "            score = detection[5:]\n",
    "            class_id = np.argmax(score)\n",
    "            confidence = score[class_id]\n",
    "            if confidence > 0.5:\n",
    "                center_x = int(detection[0] * width)\n",
    "                center_y = int(detection[1] * hight)\n",
    "                w = int(detection[2] * width)\n",
    "                h = int(detection[3]* hight)\n",
    "\n",
    "                x = int(center_x - w/2)\n",
    "                y = int(center_y - h/2)\n",
    "\n",
    "\n",
    "\n",
    "                boxes.append([x,y,w,h])\n",
    "                confidences.append((float(confidence)))\n",
    "                class_ids.append(class_id)\n",
    "\n",
    "    indexes = cv2.dnn.NMSBoxes(boxes,confidences,.8,.4)\n",
    "    font = cv2.FONT_HERSHEY_PLAIN\n",
    "    colors = np.random.uniform(0,255,size =(len(boxes),3))\n",
    "    if  len(indexes)>0:\n",
    "        for i in indexes.flatten():\n",
    "            x,y,w,h = boxes[i]\n",
    "            label = str(classes[class_ids[i]])\n",
    "            confidence = str(round(confidences[i],2))\n",
    "            color = colors[i]\n",
    "            cv2.rectangle(img,(x,y),(x+w,y+h),color,2)\n",
    "            cv2.putText(img,label + \" \" + confidence, (x,y+400),font,2,color,2)\n",
    "\n",
    "    cv2.imshow('img',img)\n",
    "    if cv2.waitKey(1) == ord('q'):\n",
    "        break\n",
    "    \n",
    "cap.release()\n",
    "cv2.destroyAllWindows()"
   ]
  },
  {
   "cell_type": "code",
   "execution_count": null,
   "id": "a4174c08",
   "metadata": {},
   "outputs": [],
   "source": []
  }
 ],
 "metadata": {
  "kernelspec": {
   "display_name": "Python 3 (ipykernel)",
   "language": "python",
   "name": "python3"
  },
  "language_info": {
   "codemirror_mode": {
    "name": "ipython",
    "version": 3
   },
   "file_extension": ".py",
   "mimetype": "text/x-python",
   "name": "python",
   "nbconvert_exporter": "python",
   "pygments_lexer": "ipython3",
   "version": "3.9.7"
  }
 },
 "nbformat": 4,
 "nbformat_minor": 5
}
